{
 "cells": [
  {
   "cell_type": "code",
   "execution_count": 1,
   "metadata": {},
   "outputs": [],
   "source": [
    "import numpy as np\n",
    "import matplotlib.pyplot as plt\n",
    "from collections import Counter\n",
    "\n",
    "def invNormal(low, high, mu=0, sd=1, *, size=1, block_size=1024, bottleneck = 1):\n",
    "    remain = size\n",
    "    result = []\n",
    "    \n",
    "    mul = -0.5 * sd**-2\n",
    "\n",
    "    while remain:\n",
    "        # draw next block of uniform variates within interval\n",
    "        x = np.random.uniform(low, high, size=min((remain+5)*2, block_size))\n",
    "        x = np.round(x).astype(int)\n",
    "        # reject proportional to normal density\n",
    "        x = x[(1-bottleneck)*np.exp(mul*(x-mu)**2) < np.random.rand(*x.shape)]\n",
    "\n",
    "        \n",
    "        # make sure we don't add too much\n",
    "        if remain < len(x):\n",
    "            x = x[:remain]\n",
    "\n",
    "        result.append(x)\n",
    "        remain -= len(x)\n",
    "\n",
    "    return np.concatenate(result)\n",
    "\n",
    "def plot_value_occurrences(data_list):\n",
    "  \"\"\"\n",
    "  Plots the occurrence of values in a list.\n",
    "\n",
    "  Args:\n",
    "      data_list: The list containing the data.\n",
    "  \"\"\"\n",
    "\n",
    "  # Count the occurrences of each value\n",
    "  value_counts = Counter(data_list)\n",
    "\n",
    "  # Extract values and their counts for plotting\n",
    "  values = list(value_counts.keys())\n",
    "  counts = list(value_counts.values())\n",
    "\n",
    "  #counts = [x / 50_000 for x in counts]\n",
    "  plt.figure(figsize=(8,4))\n",
    "  # Create the bar plot\n",
    "  plt.bar(values, counts)\n",
    "  #plt.hist(values, bins=200)\n",
    "\n",
    "  # Add labels and title\n",
    "  plt.xlabel(\"Timestep\")\n",
    "  plt.ylabel(\"Occurrences\")\n",
    "\n",
    "  # Show the plot\n",
    "  plt.savefig(\"shape.pdf\")\n",
    "  plt.show()\n"
   ]
  },
  {
   "cell_type": "code",
   "execution_count": 2,
   "metadata": {},
   "outputs": [
    {
     "data": {
      "image/png": "[encoded data removed]",
      "text/plain": [
       "<Figure size 800x400 with 1 Axes>"
      ]
     },
     "metadata": {},
     "output_type": "display_data"
    }
   ],
   "source": [
    "bottleneck_list = [0.5]\n",
    "\n",
    "for item in bottleneck_list:\n",
    "    t = 1000\n",
    "\n",
    "    values = invNormal(low = 0,\n",
    "                    high = t,\n",
    "                    size = 5_000_00,\n",
    "                    bottleneck = item,\n",
    "                    mu = t/2,\n",
    "                    sd = (t/5))\n",
    "    \n",
    "    plot_value_occurrences(values)\n"
   ]
  }
 ],
 "metadata": {
  "kernelspec": {
   "display_name": ".venv",
   "language": "python",
   "name": "python3"
  },
  "language_info": {
   "codemirror_mode": {
    "name": "ipython",
    "version": 3
   },
   "file_extension": ".py",
   "mimetype": "text/x-python",
   "name": "python",
   "nbconvert_exporter": "python",
   "pygments_lexer": "ipython3",
   "version": "3.12.3"
  }
 },
 "nbformat": 4,
 "nbformat_minor": 2
}
